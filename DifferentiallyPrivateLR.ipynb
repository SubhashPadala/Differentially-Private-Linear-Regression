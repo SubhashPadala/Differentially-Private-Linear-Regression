{
  "nbformat": 4,
  "nbformat_minor": 0,
  "metadata": {
    "colab": {
      "name": "DifferentiallyPrivateLR.ipynb",
      "provenance": [],
      "collapsed_sections": []
    },
    "kernelspec": {
      "name": "python3",
      "display_name": "Python 3"
    }
  },
  "cells": [
    {
      "cell_type": "markdown",
      "metadata": {
        "id": "oxRqyPEZVEj8"
      },
      "source": [
        "#differentially private linear regression using sufficient statistics\n",
        "\n",
        "> Indented block\n",
        "\n",
        "\n"
      ]
    },
    {
      "cell_type": "code",
      "metadata": {
        "id": "1G2dktzvW5YK",
        "colab": {
          "base_uri": "https://localhost:8080/"
        },
        "outputId": "b8a4bcb3-bbf5-4e43-a4c0-27ed5cc6d43e"
      },
      "source": [
        "# import libraries and set path\n",
        "from google.colab import drive\n",
        "drive.mount('/content/drive',force_remount=True)\n",
        "import numpy as np\n",
        "import matplotlib.pyplot as plt\n",
        "import pandas as pd\n",
        "import math\n",
        "import matplotlib.pyplot as plt\n",
        "from sklearn.model_selection import train_test_split\n",
        "from sklearn.linear_model import LinearRegression\n",
        "from sklearn import metrics\n",
        "from sklearn.preprocessing import normalize\n",
        "from scipy import stats\n",
        " \n",
        "#setting parameters\n",
        "datapath=\"drive/My Drive/synthetic_data.csv\"\n",
        "d=100\n",
        "n=1000\n",
        "L=1 \n",
        "sigma=1 \n",
        "alpha=0.001\n",
        "epsilon=2\n",
        "mean=0\n",
        " \n",
        "norm='l1'\n",
        "axis=1\n",
        "test_size=0.3"
      ],
      "execution_count": null,
      "outputs": [
        {
          "output_type": "stream",
          "text": [
            "Mounted at /content/drive\n"
          ],
          "name": "stdout"
        }
      ]
    },
    {
      "cell_type": "markdown",
      "metadata": {
        "id": "UBN2wpCT6xDn"
      },
      "source": [
        "## **Data being released by owner**"
      ]
    },
    {
      "cell_type": "code",
      "metadata": {
        "id": "Ax8asWR6vlQt"
      },
      "source": [
        "# loading data\n",
        "def load_data(n,d,datapath):\n",
        " #importing dataset and reading it into a Data Frame and converting to array and creating a subset of required size\n",
        " dataset=pd.read_csv(datapath)\n",
        " X0=1\n",
        " arr0=dataset.to_numpy()\n",
        " col_nums= len(arr0[0])\n",
        " #print(col_nums)\n",
        " arr0=np.delete(arr0, 0, axis=1)# Deleting  first column as it contains indices from dataframe\n",
        " y=arr0[0:n,col_nums-2]\n",
        " y=y.reshape(n,1)\n",
        " arr1=arr0[0:n,0:d]\n",
        " arr1=np.insert(arr1,0,X0,axis=1) #inserting first column as all zeros for linear regression\n",
        " arr1=arr1.reshape(n,d+1)\n",
        " return(arr1,y)\n",
        "\n",
        "\n",
        "#The data with the data owner\n",
        "def preprocess_x(x,norm,axis):\n",
        "  x_norm=normalize(x,norm='l2',axis=1)\n",
        "  return(x_norm)\n",
        "\n",
        "# compute sufficient stats for LRCF\n",
        "def suff_stats_LR(x,y):\n",
        " XTX=np.dot(x.transpose(),x)\n",
        " XTY=np.dot(x.transpose(),y)\n",
        " return(XTX,XTY)\n",
        "\n",
        "\n",
        "def get_raw_data(n,d,datapath,norm,axis,test_size):\n",
        "  x,y=load_data(n,d,datapath)\n",
        "\n",
        "  x = preprocess_x(x,norm,axis)\n",
        "\n",
        "  #Splitting into test and train data\n",
        "  x_train,x_test,y_train,y_test=train_test_split(x,y,test_size=0.33,random_state=42)\n",
        "\n",
        "\n",
        "  return(x_train,x_test,y_train,y_test)\n",
        "\n",
        "def clipping_trick(data,max_value,min_value):\n",
        "  for i in range(len(data)):\n",
        "    if data[i]>max_value:\n",
        "     data[i]=max_value\n",
        "    elif data[i]<min_value:\n",
        "     data[i]=min_value \n",
        "  return(data)     \n",
        "\n",
        "def get_data(n,d,datapath,norm,axis,test_size,y_max,y_min):\n",
        "  x_train,x_test,y_train,y_test = get_raw_data(n,d,datapath,norm,axis,test_size)\n",
        "  y_train_clipped=clipping_trick(y_train,y_max,y_min)\n",
        "  y_test_clipped=clipping_trick(y_test,y_max,y_min)\n",
        "  XtX, XtY = suff_stats_LR(x_train,y_train_clipped)\n",
        "  return(XtX, XtY, x_test, y_test,y_test_clipped)"
      ],
      "execution_count": null,
      "outputs": []
    },
    {
      "cell_type": "markdown",
      "metadata": {
        "id": "iaLGw8wNW7nk"
      },
      "source": [
        "# **Privacy wall**"
      ]
    },
    {
      "cell_type": "code",
      "metadata": {
        "id": "39ENuxiRWvJs"
      },
      "source": [
        "# Laplace mechanism\n",
        "# sensitivity of sufficient stats\n",
        "#L1 Sensitivity of XTX and XTy\n",
        "def LR_suff_stat_l1_sensitivity(d,y_max):\n",
        " l1_sensi_xtx=(d)*(d+1)/2                       #formula is (xmax)^2(d)*(d+1)/2(our xmax =1 as we have arready normalized)\n",
        " l1_sensi_xty=d*y_max                        #formula is xmax*ymax*d(our xmax =1 as we have arready normalized)\n",
        " return(l1_sensi_xtx,l1_sensi_xty)\n",
        " \n",
        "\n",
        "# laplace mechanism(adding laplacian noise) \n",
        "def add_laplacian_noise(x,mean,scale):  \n",
        " noisy_x=np.random.laplace(mean,scale,(len(x),len(x[0])))+x\n",
        " return(noisy_x)\n",
        "\n",
        "def laplace_mechanism(XtX, XtY, mean, epsilon, d, y_max):\n",
        "  x_dim=d\n",
        "  l1_sensi_xtx,l1_sensi_xty=LR_suff_stat_l1_sensitivity(x_dim,y_max)\n",
        "  \n",
        "  scale_XtX=l1_sensi_xtx/(epsilon/2)\n",
        "  XtX_diff = add_laplacian_noise(XtX,mean,scale_XtX)\n",
        "\n",
        "  scale_XtY=l1_sensi_xty/(epsilon/2)\n",
        "  XtY_diff = add_laplacian_noise(XtY,mean,scale_XtY)\n",
        "\n",
        "  return(XtX_diff, XtY_diff)"
      ],
      "execution_count": null,
      "outputs": []
    },
    {
      "cell_type": "markdown",
      "metadata": {
        "id": "oE-d02vM6qBj"
      },
      "source": [
        "# **Analysis by Analyst**"
      ]
    },
    {
      "cell_type": "code",
      "metadata": {
        "id": "sZSmNvxEyRl2"
      },
      "source": [
        ",#Analysis by Analyst\n",
        "# Train the model \n",
        "\n",
        "# LRCF that takes sufficient stats as input \n",
        "def LRCF_suff_stats_train(XTX, XTY, epsilon, mean, privacy, d, y_max):\n",
        " if privacy==1:\n",
        "  XtX_diff,XtY_diff=laplace_mechanism(XTX, XTY, mean, epsilon, d, y_max) \n",
        "  XTX=XtX_diff\n",
        "  XTY=XtY_diff\n",
        " W=np.dot(np.linalg.inv(XTX),XTY)\n",
        " W = W.reshape(1,d+1)\n",
        " return(W)\n",
        "\n",
        "\n",
        "def LR_predict(W, x):\n",
        " ycap= np.zeros((len(x),),dtype=float)\n",
        " ycap=ycap.reshape(len(x),1)\n",
        " for i in range(len(x)):\n",
        "  for k in range(len(x[0])):\n",
        "   ycap[i,0]=ycap[i,0]+(W[0,k]*x[i,k])\n",
        " return(ycap)  \n"
      ],
      "execution_count": null,
      "outputs": []
    },
    {
      "cell_type": "markdown",
      "metadata": {
        "id": "Em6HLdOnafph"
      },
      "source": [
        "# **Analysis of Results**"
      ]
    },
    {
      "cell_type": "code",
      "metadata": {
        "id": "1S7dLYwkZa2y"
      },
      "source": [
        "# Error functions\n",
        "\n",
        "#RMSE\n",
        "def compute_rmse(w,y_test, y_pred):\n",
        " sum=0\n",
        " test_len=len(y_test)\n",
        " y_test=y_test.reshape(test_len,1)\n",
        " for i in range(test_len):\n",
        "  sum=sum+((y_test[i,0]-y_pred[i,0] )**2) \n",
        " rmse=math.sqrt(sum/test_len)\n",
        " return(rmse)\n",
        "\n",
        "\n",
        "\n",
        "#Spearman rank correlation\n",
        "def compute_rank_corr(y_test, y_pred):\n",
        "  src = stats.spearmanr(y_test, y_pred)\n",
        "  return(src)\n"
      ],
      "execution_count": null,
      "outputs": []
    },
    {
      "cell_type": "markdown",
      "metadata": {
        "id": "IIi9lSK6hqJf"
      },
      "source": [
        "#Plots"
      ]
    },
    {
      "cell_type": "code",
      "metadata": {
        "id": "JtTg4UaRaT2I"
      },
      "source": [
        "def plt_corr(y_test,y_pred_priv):\n",
        " fig=plt.figure()\n",
        " plt.xlabel('Original y')\n",
        " plt.ylabel('predicted y')\n",
        " plt.scatter(y_test,y_pred_priv)\n",
        "\n",
        "def vary_epsilon(initial_value,final_value): \n",
        " fig=plt.figure(figsize=[10,5])\n",
        " ax1 = fig.add_subplot(121)\n",
        " ax2 = fig.add_subplot(122)\n",
        " ax1 = fig.add_subplot(121)\n",
        " ax2 = fig.add_subplot(122)\n",
        " ax1.set_xlabel('e')\n",
        " ax1.set_ylabel('RMSE')\n",
        " ax1.set_title('Epsilon vs RMSE')\n",
        " ax2.set_xlabel('e')\n",
        " ax2.set_ylabel('Spearman rank corelation coefficient')\n",
        " ax2.set_title('Epsilon vs Datasize')\n",
        " e_values=np.linspace(initial_value,final_value,200)\n",
        "\n",
        " for i in range(len(e_values)):\n",
        "  W_priv = LRCF_suff_stats_train(XtX, XtY, e_values[i], mean, 1, d, y_max)\n",
        "  y_pred_priv=LR_predict(W_priv, x_test)\n",
        "  error=compute_rmse(W_priv,y_test, y_pred_priv)\n",
        "  rank_corr=compute_rank_corr(y_test, y_pred_priv)\n",
        "  ax1.scatter(e_values[i],error)\n",
        "  ax2.scatter(e_values[i],rank_corr[0]) \n",
        "\n",
        "def vary_datasize(initial_size,final_size):\n",
        "  fig=plt.figure(figsize=[20,5])\n",
        "  ax1 = fig.add_subplot(141)\n",
        "  ax2 = fig.add_subplot(142)\n",
        "  ax3 = fig.add_subplot(143)\n",
        "  ax4 = fig.add_subplot(144)\n",
        " \n",
        "  ax1.set_xlabel('n')\n",
        "  ax1.set_ylabel('RMSE')\n",
        "  ax1.set_title('private datasize vs RMSE')\n",
        "  ax2.set_xlabel('n')\n",
        "  ax2.set_ylabel('Spearman rank corelation coefficient')\n",
        "  ax2.set_title('private corelation coefficient vs Datasize')\n",
        "  ax3.set_xlabel('n')\n",
        "  ax3.set_ylabel('RMSE')\n",
        "  ax3.set_title('Non private datasize vs RMSE')\n",
        "  ax4.set_xlabel('n')\n",
        "  ax4.set_ylabel('Spearman rank corelation coefficient')\n",
        "  ax4.set_title('nNon private corelation coefficient vs Datasize')\n",
        "  n=initial_size\n",
        "  while (n<=final_size):\n",
        "   x,y=load_data(n,d,datapath)\n",
        "   x_train,x_test,y_train,y_test=train_test_split(x,y,test_size=0.33,random_state=42)\n",
        "   XtX, XtY, x_test, y_test = get_data(n,d,datapath,norm,axis,test_size)\n",
        "   W_priv = LRCF_suff_stats_train(XtX, XtY, epsilon, mean, 1, d, y_max)\n",
        "   W_nonpriv = LRCF_suff_stats_train(XtX, XtY, epsilon, mean, 0, d, y_max)\n",
        "   y_pred_priv = LR_predict(W_priv, x_test)\n",
        "   y_pred_nonpriv = LR_predict(W_nonpriv, x_test)\n",
        "   error_priv = compute_rmse(W_priv,y_test, y_pred_priv)\n",
        "   error_nonpriv = compute_rmse(W_nonpriv,y_test, y_pred_nonpriv)\n",
        "   rank_corr_nonpriv=compute_rank_corr(y_test, y_pred_nonpriv)\n",
        "   rank_corr=compute_rank_corr(y_test, y_pred_priv)\n",
        "   ax1.scatter(n,error_priv,color='blue')\n",
        "   ax2.scatter(n,rank_corr[0],color='blue')\n",
        "   ax3.scatter(n,error_nonpriv,color='blue')\n",
        "   ax4.scatter(n,rank_corr_nonpriv[0],color='blue')\n",
        "   n=n+1\n",
        "\n",
        "def vary_dim(initial_size,final_size):\n",
        "  fig=plt.figure(figsize=[20,5])\n",
        "  d=initial_size\n",
        "  ax1 = fig.add_subplot(141)\n",
        "  ax2 = fig.add_subplot(142)\n",
        "  ax3 = fig.add_subplot(143)\n",
        "  ax4 = fig.add_subplot(144)\n",
        "  ax1.set_xlabel('d')\n",
        "  ax1.set_ylabel('RMSE')\n",
        "  ax1.set_title('private dimension vs RMSE')\n",
        "  ax2.set_xlabel('d')\n",
        "  ax2.set_ylabel('Spearman rank corelation coefficient')\n",
        "  ax2.set_title('private corelation coefficient vs Datasize')\n",
        "  ax3.set_xlabel('d')\n",
        "  ax3.set_ylabel('RMSE')\n",
        "  ax3.set_title('Non private dimensions vs RMSE')\n",
        "  ax4.set_xlabel('d')\n",
        "  ax4.set_ylabel('Spearman rank corelation coefficient')\n",
        "  ax4.set_title('nNon private corelation coefficient vs Datasize')\n",
        "  while (d<=final_size):\n",
        "   x,y=load_data(n,d,datapath)\n",
        "   x_train,x_test,y_train,y_test=train_test_split(x,y,test_size=0.33,random_state=42)\n",
        "   XtX, XtY, x_test, y_test = get_data(n,d,datapath,norm,axis,test_size)\n",
        "   W_priv = LRCF_suff_stats_train(XtX, XtY, epsilon, mean, 1, d, y_max)\n",
        "   W_nonpriv = LRCF_suff_stats_train(XtX, XtY, epsilon, mean, 0, d, y_max)\n",
        "   y_pred_nonpriv = LR_predict(W_nonpriv, x_test)\n",
        "   y_pred_priv = LR_predict(W_priv, x_test)\n",
        "   error_priv = compute_rmse(W_priv,y_test, y_pred_priv)\n",
        "   error_nonpriv = compute_rmse(W_nonpriv,y_test, y_pred_nonpriv)\n",
        "   rank_corr=compute_rank_corr(y_test, y_pred_priv)\n",
        "   rank_corr_nonpriv=compute_rank_corr(y_test, y_pred_nonpriv)\n",
        "   ax1.scatter(d,error_priv,color='blue')\n",
        "   ax2.scatter(d,rank_corr[0],color='blue')\n",
        "   ax3.scatter(d,error_nonpriv,color='blue')\n",
        "   ax4.scatter(d,rank_corr_nonpriv[0],color='blue')\n",
        "   d=d+1\n",
        "   "
      ],
      "execution_count": null,
      "outputs": []
    },
    {
      "cell_type": "markdown",
      "metadata": {
        "id": "4h-oK_MAarfI"
      },
      "source": [
        "# **The Main** "
      ]
    },
    {
      "cell_type": "code",
      "metadata": {
        "id": "arp0Ef5P2Zig",
        "colab": {
          "base_uri": "https://localhost:8080/"
        },
        "outputId": "774f3651-447e-4192-e10e-87b48778cbc6"
      },
      "source": [
        "\n",
        "#The Main \n",
        "\n",
        "y_max=1\n",
        "y_min=-1\n",
        "XtX, XtY, x_test, y_test,y_test_clipped = get_data(n,d,datapath,norm,axis,test_size,y_max,y_min)\n",
        "\n",
        "W_priv = LRCF_suff_stats_train(XtX, XtY, epsilon, mean, 1, d, y_max)\n",
        "W_nonpriv = LRCF_suff_stats_train(XtX, XtY, epsilon, mean, 0, d, y_max)\n",
        "\n",
        "y_pred_priv = LR_predict(W_priv, x_test)\n",
        "y_pred_nonpriv = LR_predict(W_nonpriv, x_test)\n",
        "\n",
        "error_priv = compute_rmse(W_priv,y_test, y_pred_priv)\n",
        "error_nonpriv = compute_rmse(W_nonpriv,y_test, y_pred_nonpriv)\n",
        "error_nonpriv\n",
        "\n"
      ],
      "execution_count": null,
      "outputs": [
        {
          "output_type": "execute_result",
          "data": {
            "text/plain": [
              "0.646059664175075"
            ]
          },
          "metadata": {
            "tags": []
          },
          "execution_count": 19
        }
      ]
    },
    {
      "cell_type": "code",
      "metadata": {
        "id": "3Ckv_vzjn_yD",
        "colab": {
          "base_uri": "https://localhost:8080/"
        },
        "outputId": "f8ac5816-e2ca-48a5-85ff-55011a71c82a"
      },
      "source": [
        "#Plotting correlation in x and y and calculating spearman rank corelation coefficient\n",
        "compute_rank_corr(y_test, y_pred_priv)\n"
      ],
      "execution_count": null,
      "outputs": [
        {
          "output_type": "execute_result",
          "data": {
            "text/plain": [
              "SpearmanrResult(correlation=0.07455558251104816, pvalue=0.17665976881443599)"
            ]
          },
          "metadata": {
            "tags": []
          },
          "execution_count": 20
        }
      ]
    },
    {
      "cell_type": "code",
      "metadata": {
        "id": "JjCwiIplpgPK",
        "colab": {
          "base_uri": "https://localhost:8080/",
          "height": 438
        },
        "outputId": "80a21022-4a78-4ab4-bfc6-629c2d1bdc50"
      },
      "source": [
        "# effect of varying e\n",
        "initial_value=0.05\n",
        "final_value=4\n",
        "vary_epsilon(initial_value,final_value)"
      ],
      "execution_count": null,
      "outputs": [
        {
          "output_type": "stream",
          "text": [
            "/usr/local/lib/python3.6/dist-packages/ipykernel_launcher.py:11: MatplotlibDeprecationWarning: Adding an axes using the same arguments as a previous axes currently reuses the earlier instance.  In a future version, a new instance will always be created and returned.  Meanwhile, this warning can be suppressed, and the future behavior ensured, by passing a unique label to each axes instance.\n",
            "  # This is added back by InteractiveShellApp.init_path()\n",
            "/usr/local/lib/python3.6/dist-packages/ipykernel_launcher.py:12: MatplotlibDeprecationWarning: Adding an axes using the same arguments as a previous axes currently reuses the earlier instance.  In a future version, a new instance will always be created and returned.  Meanwhile, this warning can be suppressed, and the future behavior ensured, by passing a unique label to each axes instance.\n",
            "  if sys.path[0] == '':\n"
          ],
          "name": "stderr"
        },
        {
          "output_type": "display_data",
          "data": {
            "image/png": "[encoded data removed]",
            "text/plain": [
              "<Figure size 720x360 with 2 Axes>"
            ]
          },
          "metadata": {
            "tags": [],
            "needs_background": "light"
          }
        }
      ]
    },
    {
      "cell_type": "code",
      "metadata": {
        "id": "Rjpxf50J1eJT"
      },
      "source": [
        "#effect of varying data size\n",
        "initial_size=200\n",
        "final_size=500\n",
        "vary_datasize(initial_size,final_size)"
      ],
      "execution_count": null,
      "outputs": []
    },
    {
      "cell_type": "code",
      "metadata": {
        "id": "l6yA817upKCL"
      },
      "source": [
        " \n",
        "#effect of varing dimensions\n",
        "initial_dim=2\n",
        "final_dim=100\n",
        "vary_dim(initial_dim,final_dim)"
      ],
      "execution_count": null,
      "outputs": []
    },
    {
      "cell_type": "code",
      "metadata": {
        "id": "P2k9vVmSr1wP"
      },
      "source": [
        ""
      ],
      "execution_count": null,
      "outputs": []
    }
  ]
}